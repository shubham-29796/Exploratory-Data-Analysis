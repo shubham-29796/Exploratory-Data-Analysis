{
 "cells": [
  {
   "cell_type": "markdown",
   "metadata": {},
   "source": [
    "# Analysing Uber Demand-Supply problem using Exploratory Data Analysis\n"
   ]
  },
  {
   "cell_type": "markdown",
   "metadata": {},
   "source": [
    "#### We have uber masked data with us which is used by the company to resolve their business problem. We have data regarding rides to and from the airport as our main objective is to find problems pertaining to airport specific rides."
   ]
  },
  {
   "cell_type": "code",
   "execution_count": 1,
   "metadata": {},
   "outputs": [],
   "source": [
    "import pandas as pd\n",
    "import numpy as np\n",
    "import matplotlib.pyplot as plt\n",
    "import seaborn as sns\n"
   ]
  },
  {
   "cell_type": "code",
   "execution_count": 2,
   "metadata": {},
   "outputs": [],
   "source": [
    "df= pd.read_csv(r'C:\\Users\\shubh\\Downloads\\datasets\\data sets eda projects\\Uber Request Data.csv')"
   ]
  },
  {
   "cell_type": "markdown",
   "metadata": {},
   "source": [
    "### Cleaning the data"
   ]
  },
  {
   "cell_type": "markdown",
   "metadata": {},
   "source": [
    "Cleaning the data is the most important  thing as it makes the rest of the analysis easier. We first look at the head of the data to get an idea about what kind data are we dealing with, we further look at the shape and info of the data. shape tells us the no. of rows and columns in our data while info tells us about the no. of non-null values in columns and their data types."
   ]
  },
  {
   "cell_type": "code",
   "execution_count": 3,
   "metadata": {},
   "outputs": [
    {
     "data": {
      "text/html": [
       "<div>\n",
       "<style scoped>\n",
       "    .dataframe tbody tr th:only-of-type {\n",
       "        vertical-align: middle;\n",
       "    }\n",
       "\n",
       "    .dataframe tbody tr th {\n",
       "        vertical-align: top;\n",
       "    }\n",
       "\n",
       "    .dataframe thead th {\n",
       "        text-align: right;\n",
       "    }\n",
       "</style>\n",
       "<table border=\"1\" class=\"dataframe\">\n",
       "  <thead>\n",
       "    <tr style=\"text-align: right;\">\n",
       "      <th></th>\n",
       "      <th>Request id</th>\n",
       "      <th>Pickup point</th>\n",
       "      <th>Driver id</th>\n",
       "      <th>Status</th>\n",
       "      <th>Request timestamp</th>\n",
       "      <th>Drop timestamp</th>\n",
       "    </tr>\n",
       "  </thead>\n",
       "  <tbody>\n",
       "    <tr>\n",
       "      <th>0</th>\n",
       "      <td>619</td>\n",
       "      <td>Airport</td>\n",
       "      <td>1.0</td>\n",
       "      <td>Trip Completed</td>\n",
       "      <td>11/7/2016 11:51</td>\n",
       "      <td>11/7/2016 13:00</td>\n",
       "    </tr>\n",
       "    <tr>\n",
       "      <th>1</th>\n",
       "      <td>867</td>\n",
       "      <td>Airport</td>\n",
       "      <td>1.0</td>\n",
       "      <td>Trip Completed</td>\n",
       "      <td>11/7/2016 17:57</td>\n",
       "      <td>11/7/2016 18:47</td>\n",
       "    </tr>\n",
       "    <tr>\n",
       "      <th>2</th>\n",
       "      <td>1807</td>\n",
       "      <td>City</td>\n",
       "      <td>1.0</td>\n",
       "      <td>Trip Completed</td>\n",
       "      <td>12/7/2016 9:17</td>\n",
       "      <td>12/7/2016 9:58</td>\n",
       "    </tr>\n",
       "    <tr>\n",
       "      <th>3</th>\n",
       "      <td>2532</td>\n",
       "      <td>Airport</td>\n",
       "      <td>1.0</td>\n",
       "      <td>Trip Completed</td>\n",
       "      <td>12/7/2016 21:08</td>\n",
       "      <td>12/7/2016 22:03</td>\n",
       "    </tr>\n",
       "    <tr>\n",
       "      <th>4</th>\n",
       "      <td>3112</td>\n",
       "      <td>City</td>\n",
       "      <td>1.0</td>\n",
       "      <td>Trip Completed</td>\n",
       "      <td>13-07-2016 08:33:16</td>\n",
       "      <td>13-07-2016 09:25:47</td>\n",
       "    </tr>\n",
       "  </tbody>\n",
       "</table>\n",
       "</div>"
      ],
      "text/plain": [
       "   Request id Pickup point  Driver id          Status    Request timestamp  \\\n",
       "0         619      Airport        1.0  Trip Completed      11/7/2016 11:51   \n",
       "1         867      Airport        1.0  Trip Completed      11/7/2016 17:57   \n",
       "2        1807         City        1.0  Trip Completed       12/7/2016 9:17   \n",
       "3        2532      Airport        1.0  Trip Completed      12/7/2016 21:08   \n",
       "4        3112         City        1.0  Trip Completed  13-07-2016 08:33:16   \n",
       "\n",
       "        Drop timestamp  \n",
       "0      11/7/2016 13:00  \n",
       "1      11/7/2016 18:47  \n",
       "2       12/7/2016 9:58  \n",
       "3      12/7/2016 22:03  \n",
       "4  13-07-2016 09:25:47  "
      ]
     },
     "execution_count": 3,
     "metadata": {},
     "output_type": "execute_result"
    }
   ],
   "source": [
    "df.head()"
   ]
  },
  {
   "cell_type": "code",
   "execution_count": 4,
   "metadata": {},
   "outputs": [
    {
     "name": "stdout",
     "output_type": "stream",
     "text": [
      "<class 'pandas.core.frame.DataFrame'>\n",
      "RangeIndex: 6745 entries, 0 to 6744\n",
      "Data columns (total 6 columns):\n",
      "Request id           6745 non-null int64\n",
      "Pickup point         6745 non-null object\n",
      "Driver id            4095 non-null float64\n",
      "Status               6745 non-null object\n",
      "Request timestamp    6745 non-null object\n",
      "Drop timestamp       2831 non-null object\n",
      "dtypes: float64(1), int64(1), object(4)\n",
      "memory usage: 316.2+ KB\n",
      "None\n",
      "(6745, 6)\n"
     ]
    }
   ],
   "source": [
    "print(df.info())\n",
    "print(df.shape)"
   ]
  },
  {
   "cell_type": "markdown",
   "metadata": {},
   "source": [
    " Now we check for the null values in our data, 1st we check how many null values are there in each column. then we see the counts of the value in the \"Status\" and \"Pickup point\" columns. \n",
    "\n",
    " We observe that there are 2650 null values in our \"Driver id\" column and 3914 null values in our \"Drop timestamp\" column. \n",
    " The null values in the \"Driver id\" column represents requests which were met with non-availability of cars, while the null values in the \"Drop timestamp\" column represnts those requests which were met with non-availability of cars plus those where the the drivers had cancelled the ride.\n",
    " \n",
    " No cars available (2650) + Cancelled (1264) = null values in Drop timestamp(3914)\n",
    " "
   ]
  },
  {
   "cell_type": "code",
   "execution_count": 5,
   "metadata": {},
   "outputs": [
    {
     "data": {
      "text/plain": [
       "Request id              0\n",
       "Pickup point            0\n",
       "Driver id            2650\n",
       "Status                  0\n",
       "Request timestamp       0\n",
       "Drop timestamp       3914\n",
       "dtype: int64"
      ]
     },
     "execution_count": 5,
     "metadata": {},
     "output_type": "execute_result"
    }
   ],
   "source": [
    "df.isnull().sum()"
   ]
  },
  {
   "cell_type": "code",
   "execution_count": 6,
   "metadata": {},
   "outputs": [
    {
     "data": {
      "text/plain": [
       "Trip Completed       2831\n",
       "No Cars Available    2650\n",
       "Cancelled            1264\n",
       "Name: Status, dtype: int64"
      ]
     },
     "execution_count": 6,
     "metadata": {},
     "output_type": "execute_result"
    }
   ],
   "source": [
    "df['Status'].value_counts()"
   ]
  },
  {
   "cell_type": "code",
   "execution_count": 7,
   "metadata": {},
   "outputs": [
    {
     "data": {
      "text/plain": [
       "City       3507\n",
       "Airport    3238\n",
       "Name: Pickup point, dtype: int64"
      ]
     },
     "execution_count": 7,
     "metadata": {},
     "output_type": "execute_result"
    }
   ],
   "source": [
    "df['Pickup point'].value_counts()"
   ]
  },
  {
   "cell_type": "markdown",
   "metadata": {},
   "source": [
    "Now we check if there are rows which have all the values as null because there is no use of such rows.\n",
    "We find that there is no such row."
   ]
  },
  {
   "cell_type": "code",
   "execution_count": 8,
   "metadata": {},
   "outputs": [
    {
     "data": {
      "text/plain": [
       "0"
      ]
     },
     "execution_count": 8,
     "metadata": {},
     "output_type": "execute_result"
    }
   ],
   "source": [
    "df.isnull().all(axis=1).sum()"
   ]
  },
  {
   "cell_type": "markdown",
   "metadata": {},
   "source": [
    "As we see that our Columns \"Request timestamp\" & \"Drop timestamp\" have two different date formats in them so we need to convert them into datetime format for our further analysis.\n",
    "\n",
    "As you can see that some of our dates have this '11/7/2016 11:51' format while some have '13-07-2016 08:33:16' format so we cannot use a simple 'pd.to_datetime' command as it reads days of some format as months while months as days, so we converted them into a common format using the code given below."
   ]
  },
  {
   "cell_type": "code",
   "execution_count": 9,
   "metadata": {},
   "outputs": [],
   "source": [
    "import datetime as datetime"
   ]
  },
  {
   "cell_type": "code",
   "execution_count": 10,
   "metadata": {},
   "outputs": [],
   "source": [
    "df['Request Timestamp']=pd.to_datetime(df['Request timestamp'], format='%d/%m/%Y %H:%M', errors='coerce')\n",
    "mask = df['Request Timestamp'].isnull()\n",
    "df.loc[mask, 'Request Timestamp'] = pd.to_datetime(df[mask]['Request timestamp'], format='%d-%m-%Y %H:%M:%S',\n",
    "                                             errors='coerce')\n",
    "\n",
    "df['Drop Timestamp']=pd.to_datetime(df['Drop timestamp'], format='%d/%m/%Y %H:%M', errors='coerce')\n",
    "mask = df['Drop Timestamp'].isnull()\n",
    "df.loc[mask, 'Drop Timestamp'] = pd.to_datetime(df[mask]['Drop timestamp'], format='%d-%m-%Y %H:%M:%S',\n",
    "                                             errors='coerce')"
   ]
  },
  {
   "cell_type": "code",
   "execution_count": 11,
   "metadata": {},
   "outputs": [
    {
     "data": {
      "text/html": [
       "<div>\n",
       "<style scoped>\n",
       "    .dataframe tbody tr th:only-of-type {\n",
       "        vertical-align: middle;\n",
       "    }\n",
       "\n",
       "    .dataframe tbody tr th {\n",
       "        vertical-align: top;\n",
       "    }\n",
       "\n",
       "    .dataframe thead th {\n",
       "        text-align: right;\n",
       "    }\n",
       "</style>\n",
       "<table border=\"1\" class=\"dataframe\">\n",
       "  <thead>\n",
       "    <tr style=\"text-align: right;\">\n",
       "      <th></th>\n",
       "      <th>Request id</th>\n",
       "      <th>Pickup point</th>\n",
       "      <th>Driver id</th>\n",
       "      <th>Status</th>\n",
       "      <th>Request timestamp</th>\n",
       "      <th>Drop timestamp</th>\n",
       "      <th>Request Timestamp</th>\n",
       "      <th>Drop Timestamp</th>\n",
       "    </tr>\n",
       "  </thead>\n",
       "  <tbody>\n",
       "    <tr>\n",
       "      <th>0</th>\n",
       "      <td>619</td>\n",
       "      <td>Airport</td>\n",
       "      <td>1.0</td>\n",
       "      <td>Trip Completed</td>\n",
       "      <td>11/7/2016 11:51</td>\n",
       "      <td>11/7/2016 13:00</td>\n",
       "      <td>2016-07-11 11:51:00</td>\n",
       "      <td>2016-07-11 13:00:00</td>\n",
       "    </tr>\n",
       "    <tr>\n",
       "      <th>1</th>\n",
       "      <td>867</td>\n",
       "      <td>Airport</td>\n",
       "      <td>1.0</td>\n",
       "      <td>Trip Completed</td>\n",
       "      <td>11/7/2016 17:57</td>\n",
       "      <td>11/7/2016 18:47</td>\n",
       "      <td>2016-07-11 17:57:00</td>\n",
       "      <td>2016-07-11 18:47:00</td>\n",
       "    </tr>\n",
       "    <tr>\n",
       "      <th>2</th>\n",
       "      <td>1807</td>\n",
       "      <td>City</td>\n",
       "      <td>1.0</td>\n",
       "      <td>Trip Completed</td>\n",
       "      <td>12/7/2016 9:17</td>\n",
       "      <td>12/7/2016 9:58</td>\n",
       "      <td>2016-07-12 09:17:00</td>\n",
       "      <td>2016-07-12 09:58:00</td>\n",
       "    </tr>\n",
       "    <tr>\n",
       "      <th>3</th>\n",
       "      <td>2532</td>\n",
       "      <td>Airport</td>\n",
       "      <td>1.0</td>\n",
       "      <td>Trip Completed</td>\n",
       "      <td>12/7/2016 21:08</td>\n",
       "      <td>12/7/2016 22:03</td>\n",
       "      <td>2016-07-12 21:08:00</td>\n",
       "      <td>2016-07-12 22:03:00</td>\n",
       "    </tr>\n",
       "    <tr>\n",
       "      <th>4</th>\n",
       "      <td>3112</td>\n",
       "      <td>City</td>\n",
       "      <td>1.0</td>\n",
       "      <td>Trip Completed</td>\n",
       "      <td>13-07-2016 08:33:16</td>\n",
       "      <td>13-07-2016 09:25:47</td>\n",
       "      <td>2016-07-13 08:33:16</td>\n",
       "      <td>2016-07-13 09:25:47</td>\n",
       "    </tr>\n",
       "  </tbody>\n",
       "</table>\n",
       "</div>"
      ],
      "text/plain": [
       "   Request id Pickup point  Driver id          Status    Request timestamp  \\\n",
       "0         619      Airport        1.0  Trip Completed      11/7/2016 11:51   \n",
       "1         867      Airport        1.0  Trip Completed      11/7/2016 17:57   \n",
       "2        1807         City        1.0  Trip Completed       12/7/2016 9:17   \n",
       "3        2532      Airport        1.0  Trip Completed      12/7/2016 21:08   \n",
       "4        3112         City        1.0  Trip Completed  13-07-2016 08:33:16   \n",
       "\n",
       "        Drop timestamp   Request Timestamp      Drop Timestamp  \n",
       "0      11/7/2016 13:00 2016-07-11 11:51:00 2016-07-11 13:00:00  \n",
       "1      11/7/2016 18:47 2016-07-11 17:57:00 2016-07-11 18:47:00  \n",
       "2       12/7/2016 9:58 2016-07-12 09:17:00 2016-07-12 09:58:00  \n",
       "3      12/7/2016 22:03 2016-07-12 21:08:00 2016-07-12 22:03:00  \n",
       "4  13-07-2016 09:25:47 2016-07-13 08:33:16 2016-07-13 09:25:47  "
      ]
     },
     "execution_count": 11,
     "metadata": {},
     "output_type": "execute_result"
    }
   ],
   "source": [
    "df.head()"
   ]
  },
  {
   "cell_type": "markdown",
   "metadata": {},
   "source": [
    "### Deriving new metrics."
   ]
  },
  {
   "cell_type": "markdown",
   "metadata": {},
   "source": [
    "After converting into datetime format we can extract new metrics from the data which will help us in our further analysis.\n",
    "We extracted the date, time, day and hour of the request and drop, this will help us to dive deep into the root cause of the problem statement."
   ]
  },
  {
   "cell_type": "code",
   "execution_count": 12,
   "metadata": {},
   "outputs": [],
   "source": [
    "df['Request Date']=df['Request Timestamp'].dt.date\n",
    "df['Drop Date']=df['Drop Timestamp'].dt.date\n",
    "df[\"Day of Request\"]=df['Request Timestamp'].dt.day\n",
    "df['Day of Drop']=df['Drop Timestamp'].dt.day\n",
    "df['Request Time']=df['Request Timestamp'].dt.time\n",
    "df['Drop Time']=df['Drop Timestamp'].dt.time\n",
    "df['Request Hour']=df['Request Timestamp'].dt.hour\n",
    "df['Drop Hour']=df['Drop Timestamp'].dt.hour"
   ]
  },
  {
   "cell_type": "code",
   "execution_count": 13,
   "metadata": {},
   "outputs": [
    {
     "data": {
      "text/html": [
       "<div>\n",
       "<style scoped>\n",
       "    .dataframe tbody tr th:only-of-type {\n",
       "        vertical-align: middle;\n",
       "    }\n",
       "\n",
       "    .dataframe tbody tr th {\n",
       "        vertical-align: top;\n",
       "    }\n",
       "\n",
       "    .dataframe thead th {\n",
       "        text-align: right;\n",
       "    }\n",
       "</style>\n",
       "<table border=\"1\" class=\"dataframe\">\n",
       "  <thead>\n",
       "    <tr style=\"text-align: right;\">\n",
       "      <th></th>\n",
       "      <th>Request id</th>\n",
       "      <th>Pickup point</th>\n",
       "      <th>Driver id</th>\n",
       "      <th>Status</th>\n",
       "      <th>Request timestamp</th>\n",
       "      <th>Drop timestamp</th>\n",
       "      <th>Request Timestamp</th>\n",
       "      <th>Drop Timestamp</th>\n",
       "      <th>Request Date</th>\n",
       "      <th>Drop Date</th>\n",
       "      <th>Day of Request</th>\n",
       "      <th>Day of Drop</th>\n",
       "      <th>Request Time</th>\n",
       "      <th>Drop Time</th>\n",
       "      <th>Request Hour</th>\n",
       "      <th>Drop Hour</th>\n",
       "    </tr>\n",
       "  </thead>\n",
       "  <tbody>\n",
       "    <tr>\n",
       "      <th>0</th>\n",
       "      <td>619</td>\n",
       "      <td>Airport</td>\n",
       "      <td>1.0</td>\n",
       "      <td>Trip Completed</td>\n",
       "      <td>11/7/2016 11:51</td>\n",
       "      <td>11/7/2016 13:00</td>\n",
       "      <td>2016-07-11 11:51:00</td>\n",
       "      <td>2016-07-11 13:00:00</td>\n",
       "      <td>2016-07-11</td>\n",
       "      <td>2016-07-11</td>\n",
       "      <td>11</td>\n",
       "      <td>11.0</td>\n",
       "      <td>11:51:00</td>\n",
       "      <td>13:00:00</td>\n",
       "      <td>11</td>\n",
       "      <td>13.0</td>\n",
       "    </tr>\n",
       "    <tr>\n",
       "      <th>1</th>\n",
       "      <td>867</td>\n",
       "      <td>Airport</td>\n",
       "      <td>1.0</td>\n",
       "      <td>Trip Completed</td>\n",
       "      <td>11/7/2016 17:57</td>\n",
       "      <td>11/7/2016 18:47</td>\n",
       "      <td>2016-07-11 17:57:00</td>\n",
       "      <td>2016-07-11 18:47:00</td>\n",
       "      <td>2016-07-11</td>\n",
       "      <td>2016-07-11</td>\n",
       "      <td>11</td>\n",
       "      <td>11.0</td>\n",
       "      <td>17:57:00</td>\n",
       "      <td>18:47:00</td>\n",
       "      <td>17</td>\n",
       "      <td>18.0</td>\n",
       "    </tr>\n",
       "    <tr>\n",
       "      <th>2</th>\n",
       "      <td>1807</td>\n",
       "      <td>City</td>\n",
       "      <td>1.0</td>\n",
       "      <td>Trip Completed</td>\n",
       "      <td>12/7/2016 9:17</td>\n",
       "      <td>12/7/2016 9:58</td>\n",
       "      <td>2016-07-12 09:17:00</td>\n",
       "      <td>2016-07-12 09:58:00</td>\n",
       "      <td>2016-07-12</td>\n",
       "      <td>2016-07-12</td>\n",
       "      <td>12</td>\n",
       "      <td>12.0</td>\n",
       "      <td>09:17:00</td>\n",
       "      <td>09:58:00</td>\n",
       "      <td>9</td>\n",
       "      <td>9.0</td>\n",
       "    </tr>\n",
       "    <tr>\n",
       "      <th>3</th>\n",
       "      <td>2532</td>\n",
       "      <td>Airport</td>\n",
       "      <td>1.0</td>\n",
       "      <td>Trip Completed</td>\n",
       "      <td>12/7/2016 21:08</td>\n",
       "      <td>12/7/2016 22:03</td>\n",
       "      <td>2016-07-12 21:08:00</td>\n",
       "      <td>2016-07-12 22:03:00</td>\n",
       "      <td>2016-07-12</td>\n",
       "      <td>2016-07-12</td>\n",
       "      <td>12</td>\n",
       "      <td>12.0</td>\n",
       "      <td>21:08:00</td>\n",
       "      <td>22:03:00</td>\n",
       "      <td>21</td>\n",
       "      <td>22.0</td>\n",
       "    </tr>\n",
       "    <tr>\n",
       "      <th>4</th>\n",
       "      <td>3112</td>\n",
       "      <td>City</td>\n",
       "      <td>1.0</td>\n",
       "      <td>Trip Completed</td>\n",
       "      <td>13-07-2016 08:33:16</td>\n",
       "      <td>13-07-2016 09:25:47</td>\n",
       "      <td>2016-07-13 08:33:16</td>\n",
       "      <td>2016-07-13 09:25:47</td>\n",
       "      <td>2016-07-13</td>\n",
       "      <td>2016-07-13</td>\n",
       "      <td>13</td>\n",
       "      <td>13.0</td>\n",
       "      <td>08:33:16</td>\n",
       "      <td>09:25:47</td>\n",
       "      <td>8</td>\n",
       "      <td>9.0</td>\n",
       "    </tr>\n",
       "  </tbody>\n",
       "</table>\n",
       "</div>"
      ],
      "text/plain": [
       "   Request id Pickup point  Driver id          Status    Request timestamp  \\\n",
       "0         619      Airport        1.0  Trip Completed      11/7/2016 11:51   \n",
       "1         867      Airport        1.0  Trip Completed      11/7/2016 17:57   \n",
       "2        1807         City        1.0  Trip Completed       12/7/2016 9:17   \n",
       "3        2532      Airport        1.0  Trip Completed      12/7/2016 21:08   \n",
       "4        3112         City        1.0  Trip Completed  13-07-2016 08:33:16   \n",
       "\n",
       "        Drop timestamp   Request Timestamp      Drop Timestamp Request Date  \\\n",
       "0      11/7/2016 13:00 2016-07-11 11:51:00 2016-07-11 13:00:00   2016-07-11   \n",
       "1      11/7/2016 18:47 2016-07-11 17:57:00 2016-07-11 18:47:00   2016-07-11   \n",
       "2       12/7/2016 9:58 2016-07-12 09:17:00 2016-07-12 09:58:00   2016-07-12   \n",
       "3      12/7/2016 22:03 2016-07-12 21:08:00 2016-07-12 22:03:00   2016-07-12   \n",
       "4  13-07-2016 09:25:47 2016-07-13 08:33:16 2016-07-13 09:25:47   2016-07-13   \n",
       "\n",
       "    Drop Date  Day of Request  Day of Drop Request Time Drop Time  \\\n",
       "0  2016-07-11              11         11.0     11:51:00  13:00:00   \n",
       "1  2016-07-11              11         11.0     17:57:00  18:47:00   \n",
       "2  2016-07-12              12         12.0     09:17:00  09:58:00   \n",
       "3  2016-07-12              12         12.0     21:08:00  22:03:00   \n",
       "4  2016-07-13              13         13.0     08:33:16  09:25:47   \n",
       "\n",
       "   Request Hour  Drop Hour  \n",
       "0            11       13.0  \n",
       "1            17       18.0  \n",
       "2             9        9.0  \n",
       "3            21       22.0  \n",
       "4             8        9.0  "
      ]
     },
     "execution_count": 13,
     "metadata": {},
     "output_type": "execute_result"
    }
   ],
   "source": [
    "pd.set_option('display.max_columns', 16)\n",
    "df.head()"
   ]
  },
  {
   "cell_type": "markdown",
   "metadata": {},
   "source": [
    "#### From the \"Requested Hour\" column derived above, we divide the day into different parts for our better analysis & understanding by applying a function."
   ]
  },
  {
   "cell_type": "code",
   "execution_count": 14,
   "metadata": {},
   "outputs": [],
   "source": [
    "##      Early Morning(4,5,6) | Morning(7,8,9) | Late Morning(10,11) | Afternoon(12,13,14) \n",
    "##      Early Evening(15,16,17) | Late Evening(18,19,20) | Night(21,22,23) | Late Night(0,1,2,3)\n"
   ]
  },
  {
   "cell_type": "code",
   "execution_count": 15,
   "metadata": {},
   "outputs": [],
   "source": [
    "def fun(x):\n",
    "    if x in (4,5,6):\n",
    "        return 'Early Morning'\n",
    "    elif x in (7,8,9) :\n",
    "        return 'Morning'\n",
    "    elif x in (10,11):\n",
    "        return 'Late Morning'\n",
    "    elif x in (12,13,14):\n",
    "        return 'Afternoon'\n",
    "    elif x in (15,16,17):\n",
    "        return'Early Evening'\n",
    "    elif x in (18,19,20):\n",
    "        return'Late Evening'\n",
    "    elif x in (21,22,23):\n",
    "        return 'Night'\n",
    "    elif x in (0,1,2,3):\n",
    "        return 'Late Night'\n",
    "    else:\n",
    "        return 'NA'\n",
    "\n",
    "        "
   ]
  },
  {
   "cell_type": "code",
   "execution_count": 16,
   "metadata": {},
   "outputs": [],
   "source": [
    "df['Part of Day Cab Requested']= df['Request Hour'].apply(fun)"
   ]
  },
  {
   "cell_type": "code",
   "execution_count": 17,
   "metadata": {},
   "outputs": [
    {
     "data": {
      "text/html": [
       "<div>\n",
       "<style scoped>\n",
       "    .dataframe tbody tr th:only-of-type {\n",
       "        vertical-align: middle;\n",
       "    }\n",
       "\n",
       "    .dataframe tbody tr th {\n",
       "        vertical-align: top;\n",
       "    }\n",
       "\n",
       "    .dataframe thead th {\n",
       "        text-align: right;\n",
       "    }\n",
       "</style>\n",
       "<table border=\"1\" class=\"dataframe\">\n",
       "  <thead>\n",
       "    <tr style=\"text-align: right;\">\n",
       "      <th></th>\n",
       "      <th>Request id</th>\n",
       "      <th>Pickup point</th>\n",
       "      <th>Driver id</th>\n",
       "      <th>Status</th>\n",
       "      <th>Request timestamp</th>\n",
       "      <th>Drop timestamp</th>\n",
       "      <th>Request Timestamp</th>\n",
       "      <th>Drop Timestamp</th>\n",
       "      <th>Request Date</th>\n",
       "      <th>Drop Date</th>\n",
       "      <th>Day of Request</th>\n",
       "      <th>Day of Drop</th>\n",
       "      <th>Request Time</th>\n",
       "      <th>Drop Time</th>\n",
       "      <th>Request Hour</th>\n",
       "      <th>Drop Hour</th>\n",
       "      <th>Part of Day Cab Requested</th>\n",
       "    </tr>\n",
       "  </thead>\n",
       "  <tbody>\n",
       "    <tr>\n",
       "      <th>0</th>\n",
       "      <td>619</td>\n",
       "      <td>Airport</td>\n",
       "      <td>1.0</td>\n",
       "      <td>Trip Completed</td>\n",
       "      <td>11/7/2016 11:51</td>\n",
       "      <td>11/7/2016 13:00</td>\n",
       "      <td>2016-07-11 11:51:00</td>\n",
       "      <td>2016-07-11 13:00:00</td>\n",
       "      <td>2016-07-11</td>\n",
       "      <td>2016-07-11</td>\n",
       "      <td>11</td>\n",
       "      <td>11.0</td>\n",
       "      <td>11:51:00</td>\n",
       "      <td>13:00:00</td>\n",
       "      <td>11</td>\n",
       "      <td>13.0</td>\n",
       "      <td>Late Morning</td>\n",
       "    </tr>\n",
       "    <tr>\n",
       "      <th>1</th>\n",
       "      <td>867</td>\n",
       "      <td>Airport</td>\n",
       "      <td>1.0</td>\n",
       "      <td>Trip Completed</td>\n",
       "      <td>11/7/2016 17:57</td>\n",
       "      <td>11/7/2016 18:47</td>\n",
       "      <td>2016-07-11 17:57:00</td>\n",
       "      <td>2016-07-11 18:47:00</td>\n",
       "      <td>2016-07-11</td>\n",
       "      <td>2016-07-11</td>\n",
       "      <td>11</td>\n",
       "      <td>11.0</td>\n",
       "      <td>17:57:00</td>\n",
       "      <td>18:47:00</td>\n",
       "      <td>17</td>\n",
       "      <td>18.0</td>\n",
       "      <td>Early Evening</td>\n",
       "    </tr>\n",
       "    <tr>\n",
       "      <th>2</th>\n",
       "      <td>1807</td>\n",
       "      <td>City</td>\n",
       "      <td>1.0</td>\n",
       "      <td>Trip Completed</td>\n",
       "      <td>12/7/2016 9:17</td>\n",
       "      <td>12/7/2016 9:58</td>\n",
       "      <td>2016-07-12 09:17:00</td>\n",
       "      <td>2016-07-12 09:58:00</td>\n",
       "      <td>2016-07-12</td>\n",
       "      <td>2016-07-12</td>\n",
       "      <td>12</td>\n",
       "      <td>12.0</td>\n",
       "      <td>09:17:00</td>\n",
       "      <td>09:58:00</td>\n",
       "      <td>9</td>\n",
       "      <td>9.0</td>\n",
       "      <td>Morning</td>\n",
       "    </tr>\n",
       "    <tr>\n",
       "      <th>3</th>\n",
       "      <td>2532</td>\n",
       "      <td>Airport</td>\n",
       "      <td>1.0</td>\n",
       "      <td>Trip Completed</td>\n",
       "      <td>12/7/2016 21:08</td>\n",
       "      <td>12/7/2016 22:03</td>\n",
       "      <td>2016-07-12 21:08:00</td>\n",
       "      <td>2016-07-12 22:03:00</td>\n",
       "      <td>2016-07-12</td>\n",
       "      <td>2016-07-12</td>\n",
       "      <td>12</td>\n",
       "      <td>12.0</td>\n",
       "      <td>21:08:00</td>\n",
       "      <td>22:03:00</td>\n",
       "      <td>21</td>\n",
       "      <td>22.0</td>\n",
       "      <td>Night</td>\n",
       "    </tr>\n",
       "    <tr>\n",
       "      <th>4</th>\n",
       "      <td>3112</td>\n",
       "      <td>City</td>\n",
       "      <td>1.0</td>\n",
       "      <td>Trip Completed</td>\n",
       "      <td>13-07-2016 08:33:16</td>\n",
       "      <td>13-07-2016 09:25:47</td>\n",
       "      <td>2016-07-13 08:33:16</td>\n",
       "      <td>2016-07-13 09:25:47</td>\n",
       "      <td>2016-07-13</td>\n",
       "      <td>2016-07-13</td>\n",
       "      <td>13</td>\n",
       "      <td>13.0</td>\n",
       "      <td>08:33:16</td>\n",
       "      <td>09:25:47</td>\n",
       "      <td>8</td>\n",
       "      <td>9.0</td>\n",
       "      <td>Morning</td>\n",
       "    </tr>\n",
       "  </tbody>\n",
       "</table>\n",
       "</div>"
      ],
      "text/plain": [
       "   Request id Pickup point  Driver id          Status    Request timestamp  \\\n",
       "0         619      Airport        1.0  Trip Completed      11/7/2016 11:51   \n",
       "1         867      Airport        1.0  Trip Completed      11/7/2016 17:57   \n",
       "2        1807         City        1.0  Trip Completed       12/7/2016 9:17   \n",
       "3        2532      Airport        1.0  Trip Completed      12/7/2016 21:08   \n",
       "4        3112         City        1.0  Trip Completed  13-07-2016 08:33:16   \n",
       "\n",
       "        Drop timestamp   Request Timestamp      Drop Timestamp Request Date  \\\n",
       "0      11/7/2016 13:00 2016-07-11 11:51:00 2016-07-11 13:00:00   2016-07-11   \n",
       "1      11/7/2016 18:47 2016-07-11 17:57:00 2016-07-11 18:47:00   2016-07-11   \n",
       "2       12/7/2016 9:58 2016-07-12 09:17:00 2016-07-12 09:58:00   2016-07-12   \n",
       "3      12/7/2016 22:03 2016-07-12 21:08:00 2016-07-12 22:03:00   2016-07-12   \n",
       "4  13-07-2016 09:25:47 2016-07-13 08:33:16 2016-07-13 09:25:47   2016-07-13   \n",
       "\n",
       "    Drop Date  Day of Request  Day of Drop Request Time Drop Time  \\\n",
       "0  2016-07-11              11         11.0     11:51:00  13:00:00   \n",
       "1  2016-07-11              11         11.0     17:57:00  18:47:00   \n",
       "2  2016-07-12              12         12.0     09:17:00  09:58:00   \n",
       "3  2016-07-12              12         12.0     21:08:00  22:03:00   \n",
       "4  2016-07-13              13         13.0     08:33:16  09:25:47   \n",
       "\n",
       "   Request Hour  Drop Hour Part of Day Cab Requested  \n",
       "0            11       13.0              Late Morning  \n",
       "1            17       18.0             Early Evening  \n",
       "2             9        9.0                   Morning  \n",
       "3            21       22.0                     Night  \n",
       "4             8        9.0                   Morning  "
      ]
     },
     "execution_count": 17,
     "metadata": {},
     "output_type": "execute_result"
    }
   ],
   "source": [
    "pd.set_option('display.max_columns', 17)\n",
    "df.head()"
   ]
  },
  {
   "cell_type": "markdown",
   "metadata": {},
   "source": [
    "#### Since our main objective is to analyse the demand and supply gap we create a new column 'Demand-Supply Gap'"
   ]
  },
  {
   "cell_type": "markdown",
   "metadata": {},
   "source": [
    "We first created a \"Demand\" column which was assigned a value of 1 because a request for a ride was made everytime.\n",
    "Then we created a \"Supply\" column which was assigned the value 0 and we assigned the value 1 when the status of the trip was completed. \n",
    "Then we subtracted the \"Supply\" column from the \"Demand\" column to get the demand supply gap and assigned the value as \"Trip Completed\" when the gap was 0 and \"Trip Not Completed\" when the demand-supply gap existed"
   ]
  },
  {
   "cell_type": "code",
   "execution_count": 18,
   "metadata": {},
   "outputs": [],
   "source": [
    "df['Demand'] = 1"
   ]
  },
  {
   "cell_type": "code",
   "execution_count": 19,
   "metadata": {},
   "outputs": [],
   "source": [
    "df['Supply'] = 0\n",
    "df.loc[(df['Status'] == 'Trip Completed'),'Supply'] = 1"
   ]
  },
  {
   "cell_type": "code",
   "execution_count": 20,
   "metadata": {},
   "outputs": [],
   "source": [
    "df['Demand-Supply Gap'] = df['Demand'] - df['Supply']\n",
    "df.loc[df['Demand-Supply Gap']==0,'Demand-Supply Gap'] = 'Trip Completed'\n",
    "df.loc[df['Demand-Supply Gap']==1,'Demand-Supply Gap'] = 'Trip Not Completed'"
   ]
  },
  {
   "cell_type": "markdown",
   "metadata": {},
   "source": [
    "#### Now we drop the columns which are not required by us."
   ]
  },
  {
   "cell_type": "code",
   "execution_count": 21,
   "metadata": {},
   "outputs": [
    {
     "data": {
      "text/html": [
       "<div>\n",
       "<style scoped>\n",
       "    .dataframe tbody tr th:only-of-type {\n",
       "        vertical-align: middle;\n",
       "    }\n",
       "\n",
       "    .dataframe tbody tr th {\n",
       "        vertical-align: top;\n",
       "    }\n",
       "\n",
       "    .dataframe thead th {\n",
       "        text-align: right;\n",
       "    }\n",
       "</style>\n",
       "<table border=\"1\" class=\"dataframe\">\n",
       "  <thead>\n",
       "    <tr style=\"text-align: right;\">\n",
       "      <th></th>\n",
       "      <th>Request id</th>\n",
       "      <th>Pickup point</th>\n",
       "      <th>Driver id</th>\n",
       "      <th>Status</th>\n",
       "      <th>Request Date</th>\n",
       "      <th>Drop Date</th>\n",
       "      <th>Day of Request</th>\n",
       "      <th>Day of Drop</th>\n",
       "      <th>Request Time</th>\n",
       "      <th>Drop Time</th>\n",
       "      <th>Request Hour</th>\n",
       "      <th>Drop Hour</th>\n",
       "      <th>Part of Day Cab Requested</th>\n",
       "      <th>Demand-Supply Gap</th>\n",
       "    </tr>\n",
       "  </thead>\n",
       "  <tbody>\n",
       "    <tr>\n",
       "      <th>0</th>\n",
       "      <td>619</td>\n",
       "      <td>Airport</td>\n",
       "      <td>1.0</td>\n",
       "      <td>Trip Completed</td>\n",
       "      <td>2016-07-11</td>\n",
       "      <td>2016-07-11</td>\n",
       "      <td>11</td>\n",
       "      <td>11.0</td>\n",
       "      <td>11:51:00</td>\n",
       "      <td>13:00:00</td>\n",
       "      <td>11</td>\n",
       "      <td>13.0</td>\n",
       "      <td>Late Morning</td>\n",
       "      <td>Trip Completed</td>\n",
       "    </tr>\n",
       "    <tr>\n",
       "      <th>1</th>\n",
       "      <td>867</td>\n",
       "      <td>Airport</td>\n",
       "      <td>1.0</td>\n",
       "      <td>Trip Completed</td>\n",
       "      <td>2016-07-11</td>\n",
       "      <td>2016-07-11</td>\n",
       "      <td>11</td>\n",
       "      <td>11.0</td>\n",
       "      <td>17:57:00</td>\n",
       "      <td>18:47:00</td>\n",
       "      <td>17</td>\n",
       "      <td>18.0</td>\n",
       "      <td>Early Evening</td>\n",
       "      <td>Trip Completed</td>\n",
       "    </tr>\n",
       "    <tr>\n",
       "      <th>2</th>\n",
       "      <td>1807</td>\n",
       "      <td>City</td>\n",
       "      <td>1.0</td>\n",
       "      <td>Trip Completed</td>\n",
       "      <td>2016-07-12</td>\n",
       "      <td>2016-07-12</td>\n",
       "      <td>12</td>\n",
       "      <td>12.0</td>\n",
       "      <td>09:17:00</td>\n",
       "      <td>09:58:00</td>\n",
       "      <td>9</td>\n",
       "      <td>9.0</td>\n",
       "      <td>Morning</td>\n",
       "      <td>Trip Completed</td>\n",
       "    </tr>\n",
       "    <tr>\n",
       "      <th>3</th>\n",
       "      <td>2532</td>\n",
       "      <td>Airport</td>\n",
       "      <td>1.0</td>\n",
       "      <td>Trip Completed</td>\n",
       "      <td>2016-07-12</td>\n",
       "      <td>2016-07-12</td>\n",
       "      <td>12</td>\n",
       "      <td>12.0</td>\n",
       "      <td>21:08:00</td>\n",
       "      <td>22:03:00</td>\n",
       "      <td>21</td>\n",
       "      <td>22.0</td>\n",
       "      <td>Night</td>\n",
       "      <td>Trip Completed</td>\n",
       "    </tr>\n",
       "    <tr>\n",
       "      <th>4</th>\n",
       "      <td>3112</td>\n",
       "      <td>City</td>\n",
       "      <td>1.0</td>\n",
       "      <td>Trip Completed</td>\n",
       "      <td>2016-07-13</td>\n",
       "      <td>2016-07-13</td>\n",
       "      <td>13</td>\n",
       "      <td>13.0</td>\n",
       "      <td>08:33:16</td>\n",
       "      <td>09:25:47</td>\n",
       "      <td>8</td>\n",
       "      <td>9.0</td>\n",
       "      <td>Morning</td>\n",
       "      <td>Trip Completed</td>\n",
       "    </tr>\n",
       "  </tbody>\n",
       "</table>\n",
       "</div>"
      ],
      "text/plain": [
       "   Request id Pickup point  Driver id          Status Request Date  \\\n",
       "0         619      Airport        1.0  Trip Completed   2016-07-11   \n",
       "1         867      Airport        1.0  Trip Completed   2016-07-11   \n",
       "2        1807         City        1.0  Trip Completed   2016-07-12   \n",
       "3        2532      Airport        1.0  Trip Completed   2016-07-12   \n",
       "4        3112         City        1.0  Trip Completed   2016-07-13   \n",
       "\n",
       "    Drop Date  Day of Request  Day of Drop Request Time Drop Time  \\\n",
       "0  2016-07-11              11         11.0     11:51:00  13:00:00   \n",
       "1  2016-07-11              11         11.0     17:57:00  18:47:00   \n",
       "2  2016-07-12              12         12.0     09:17:00  09:58:00   \n",
       "3  2016-07-12              12         12.0     21:08:00  22:03:00   \n",
       "4  2016-07-13              13         13.0     08:33:16  09:25:47   \n",
       "\n",
       "   Request Hour  Drop Hour Part of Day Cab Requested Demand-Supply Gap  \n",
       "0            11       13.0              Late Morning    Trip Completed  \n",
       "1            17       18.0             Early Evening    Trip Completed  \n",
       "2             9        9.0                   Morning    Trip Completed  \n",
       "3            21       22.0                     Night    Trip Completed  \n",
       "4             8        9.0                   Morning    Trip Completed  "
      ]
     },
     "execution_count": 21,
     "metadata": {},
     "output_type": "execute_result"
    }
   ],
   "source": [
    "df= df.drop(['Demand', 'Supply','Request timestamp','Drop timestamp','Request Timestamp','Drop Timestamp'], axis=1)\n",
    "df.head()"
   ]
  },
  {
   "cell_type": "markdown",
   "metadata": {},
   "source": [
    "Now we are done with the data cleaning and deriving metrics for our analysis"
   ]
  },
  {
   "cell_type": "markdown",
   "metadata": {},
   "source": [
    "### Now we perform univariate and segmented analysis on our data to draw insights from them"
   ]
  },
  {
   "cell_type": "markdown",
   "metadata": {},
   "source": [
    "##### Since we are only dealing with categorical variable we have used countplots."
   ]
  },
  {
   "cell_type": "markdown",
   "metadata": {},
   "source": [
    "##### At first we checked the number of requests made from two different pickup point. Request made from city to airport was 3507 while that from airport to city was 3238\n"
   ]
  },
  {
   "cell_type": "code",
   "execution_count": 22,
   "metadata": {},
   "outputs": [
    {
     "data": {
      "text/plain": [
       "City       3507\n",
       "Airport    3238\n",
       "Name: Pickup point, dtype: int64"
      ]
     },
     "execution_count": 22,
     "metadata": {},
     "output_type": "execute_result"
    }
   ],
   "source": [
    "df['Pickup point'].value_counts()"
   ]
  },
  {
   "cell_type": "code",
   "execution_count": 23,
   "metadata": {},
   "outputs": [
    {
     "data": {
      "image/png": "[encoded data removed]",
      "text/plain": [
       "<Figure size 432x432 with 1 Axes>"
      ]
     },
     "metadata": {},
     "output_type": "display_data"
    }
   ],
   "source": [
    "sns.set(style=\"whitegrid\")\n",
    "plt.figure(figsize=(6,6))\n",
    "color=[\"darkslategrey\",\"c\"]\n",
    "sns.countplot(x='Pickup point', data=df, palette=color)\n",
    "plt.title('Demand From City and Airport', fontsize= 15)\n",
    "plt.xlabel('Pickup Point', fontsize= 15)\n",
    "plt.ylabel('No. of Requests', fontsize= 15)\n",
    "plt.show()"
   ]
  },
  {
   "cell_type": "markdown",
   "metadata": {},
   "source": [
    "##### We checked the count of the status of the trip, we see that their are 2831 trips which were completed while 2650 times the car was not available and 1264 requests were cancelled."
   ]
  },
  {
   "cell_type": "code",
   "execution_count": 24,
   "metadata": {},
   "outputs": [
    {
     "data": {
      "text/plain": [
       "Trip Completed       2831\n",
       "No Cars Available    2650\n",
       "Cancelled            1264\n",
       "Name: Status, dtype: int64"
      ]
     },
     "execution_count": 24,
     "metadata": {},
     "output_type": "execute_result"
    }
   ],
   "source": [
    "df['Status'].value_counts()"
   ]
  },
  {
   "cell_type": "code",
   "execution_count": 25,
   "metadata": {},
   "outputs": [
    {
     "data": {
      "image/png": "[encoded data removed]",
      "text/plain": [
       "<Figure size 432x432 with 1 Axes>"
      ]
     },
     "metadata": {},
     "output_type": "display_data"
    }
   ],
   "source": [
    "sns.set(style=\"whitegrid\")\n",
    "plt.figure(figsize=(6,6))\n",
    "color=[\"green\", \"red\",\"yellow\"]\n",
    "sns.countplot(x='Status', data=df, palette=color)\n",
    "plt.title('Respone of Demand', fontsize= 15)\n",
    "plt.xlabel('Status of Ride', fontsize= 15)\n",
    "plt.ylabel('Frequency', fontsize=15)\n",
    "plt.show()"
   ]
  },
  {
   "cell_type": "markdown",
   "metadata": {},
   "source": [
    "##### We see for the status of the ride by the pickup point."
   ]
  },
  {
   "cell_type": "markdown",
   "metadata": {},
   "source": [
    "We see that the problem of no cars being available is acute when the pickup point is airport, while the problem of cancellation exists mostly when the ride is from the city to the airport."
   ]
  },
  {
   "cell_type": "code",
   "execution_count": 26,
   "metadata": {},
   "outputs": [
    {
     "data": {
      "text/html": [
       "<div>\n",
       "<style scoped>\n",
       "    .dataframe tbody tr th:only-of-type {\n",
       "        vertical-align: middle;\n",
       "    }\n",
       "\n",
       "    .dataframe tbody tr th {\n",
       "        vertical-align: top;\n",
       "    }\n",
       "\n",
       "    .dataframe thead th {\n",
       "        text-align: right;\n",
       "    }\n",
       "</style>\n",
       "<table border=\"1\" class=\"dataframe\">\n",
       "  <thead>\n",
       "    <tr style=\"text-align: right;\">\n",
       "      <th>Status</th>\n",
       "      <th>Cancelled</th>\n",
       "      <th>No Cars Available</th>\n",
       "      <th>Trip Completed</th>\n",
       "    </tr>\n",
       "    <tr>\n",
       "      <th>Pickup point</th>\n",
       "      <th></th>\n",
       "      <th></th>\n",
       "      <th></th>\n",
       "    </tr>\n",
       "  </thead>\n",
       "  <tbody>\n",
       "    <tr>\n",
       "      <th>Airport</th>\n",
       "      <td>198</td>\n",
       "      <td>1713</td>\n",
       "      <td>1327</td>\n",
       "    </tr>\n",
       "    <tr>\n",
       "      <th>City</th>\n",
       "      <td>1066</td>\n",
       "      <td>937</td>\n",
       "      <td>1504</td>\n",
       "    </tr>\n",
       "  </tbody>\n",
       "</table>\n",
       "</div>"
      ],
      "text/plain": [
       "Status        Cancelled  No Cars Available  Trip Completed\n",
       "Pickup point                                              \n",
       "Airport             198               1713            1327\n",
       "City               1066                937            1504"
      ]
     },
     "execution_count": 26,
     "metadata": {},
     "output_type": "execute_result"
    }
   ],
   "source": [
    "twowaytable= pd.crosstab(df['Pickup point'],df['Status'])\n",
    "twowaytable"
   ]
  },
  {
   "cell_type": "code",
   "execution_count": 27,
   "metadata": {},
   "outputs": [
    {
     "data": {
      "image/png": "[encoded data removed]",
      "text/plain": [
       "<Figure size 720x432 with 1 Axes>"
      ]
     },
     "metadata": {},
     "output_type": "display_data"
    }
   ],
   "source": [
    "sns.set(style=\"whitegrid\")\n",
    "plt.figure(figsize=(10,6))\n",
    "color=[\"green\", \"red\",\"yellow\"]\n",
    "sns.countplot(x='Pickup point',hue= 'Status', data=df, palette=color)\n",
    "plt.title('Status of the Request by the pickup place', fontsize= 15)\n",
    "plt.xlabel('Status of the Trip', fontsize= 15)\n",
    "plt.ylabel('Frequency', fontsize= 15)\n",
    "plt.show()"
   ]
  },
  {
   "cell_type": "markdown",
   "metadata": {},
   "source": [
    "##### We see for frequency of the demand made in different hours, we see that maximum demand is in the morning between 5-9 Hrs and then in the evening and night between 17-21 Hrs."
   ]
  },
  {
   "cell_type": "code",
   "execution_count": 28,
   "metadata": {},
   "outputs": [
    {
     "data": {
      "image/png": "[encoded data removed]",
      "text/plain": [
       "<Figure size 864x432 with 1 Axes>"
      ]
     },
     "metadata": {},
     "output_type": "display_data"
    }
   ],
   "source": [
    "sns.set(style=\"whitegrid\")\n",
    "plt.figure(figsize=(12,6))\n",
    "sns.countplot(x='Request Hour', data=df, palette='bright')\n",
    "plt.title('Demand by Hours of the Day', fontsize= 15)\n",
    "plt.xlabel('Hours of the Day', fontsize= 15)\n",
    "plt.ylabel('No. of Requests', fontsize= 15)\n",
    "plt.show()"
   ]
  },
  {
   "cell_type": "markdown",
   "metadata": {},
   "source": [
    "##### We see for frequency of the demand made in different hours by the pickup point. \n",
    "\n",
    "We observe that the demand from city to airport exceeds the demand from airport to city between 4 Hrs in the morning till 16 Hrs in the evening.\n",
    "While between 5 Hrs to 10 Hrs in the morning the demand from city to airport exceeds the demand from airport to city by almost 4 times.\n",
    "The demand from airport to city is more than triple than the demand from city to airport between 17Hrs to 21Hrs. \n",
    "\n",
    "Thus we conclude that the high demand in the morning is for trips from city to airport while the high demand in the evening and night is for the trips from airport to the city."
   ]
  },
  {
   "cell_type": "code",
   "execution_count": 29,
   "metadata": {},
   "outputs": [
    {
     "data": {
      "image/png": "[encoded data removed]",
      "text/plain": [
       "<Figure size 1080x432 with 1 Axes>"
      ]
     },
     "metadata": {},
     "output_type": "display_data"
    }
   ],
   "source": [
    "sns.set(style=\"whitegrid\")\n",
    "plt.figure(figsize=(15,6))\n",
    "sns.countplot(x='Request Hour',hue='Pickup point', data=df, palette='bright')\n",
    "plt.title('Demand by Hours of the Day and Pickup point', fontsize= 15)\n",
    "plt.xlabel('Hours of the Day', fontsize= 15)\n",
    "plt.ylabel('Frequency', fontsize= 15)\n",
    "plt.show()"
   ]
  },
  {
   "cell_type": "markdown",
   "metadata": {},
   "source": [
    "##### Now we see for Status of the Request in different Hours "
   ]
  },
  {
   "cell_type": "markdown",
   "metadata": {},
   "source": [
    "We obsereve that most of the requests are being cancelled during the morning hours between 5Hrs to 9Hrs, while the problem of no cars being available is between 17Hrs to 22Hrs, we saw that the major demand during morning comes for rides from city to airport and during evening and night demand is high for rides from airport to city. So we see that the problem of rides cancellation persists for rides to airport while the problem of no cars being available is for rides from airport."
   ]
  },
  {
   "cell_type": "code",
   "execution_count": 30,
   "metadata": {},
   "outputs": [
    {
     "data": {
      "image/png": "[encoded data removed]",
      "text/plain": [
       "<Figure size 1296x576 with 1 Axes>"
      ]
     },
     "metadata": {},
     "output_type": "display_data"
    }
   ],
   "source": [
    "sns.set(style=\"whitegrid\")\n",
    "plt.figure(figsize=(18,8))\n",
    "color=[\"green\", \"red\",\"yellow\"]\n",
    "sns.countplot(x='Request Hour',hue='Status', data=df, palette=color)\n",
    "plt.title('Status of the Request by Hours of the Day', fontsize= 15)\n",
    "plt.xlabel('Hours of the Day', fontsize= 15)\n",
    "plt.ylabel('Frequency', fontsize= 15)\n",
    "plt.show()"
   ]
  },
  {
   "cell_type": "markdown",
   "metadata": {},
   "source": [
    "##### Now we see for the no. of demand by the part of the day when cab is requested "
   ]
  },
  {
   "cell_type": "markdown",
   "metadata": {},
   "source": [
    "We see the maximum demand comes in the late evening, morning and the early morning time period, while the demand is minimum during late night,late morning and afternoon. "
   ]
  },
  {
   "cell_type": "code",
   "execution_count": 31,
   "metadata": {},
   "outputs": [
    {
     "data": {
      "text/plain": [
       "Late Evening     1475\n",
       "Morning          1260\n",
       "Early Morning    1046\n",
       "Night             947\n",
       "Early Evening     748\n",
       "Afternoon         480\n",
       "Late Morning      414\n",
       "Late Night        375\n",
       "Name: Part of Day Cab Requested, dtype: int64"
      ]
     },
     "execution_count": 31,
     "metadata": {},
     "output_type": "execute_result"
    }
   ],
   "source": [
    "df['Part of Day Cab Requested'].value_counts()"
   ]
  },
  {
   "cell_type": "code",
   "execution_count": 32,
   "metadata": {},
   "outputs": [
    {
     "data": {
      "image/png": "[encoded data removed]",
      "text/plain": [
       "<Figure size 720x432 with 1 Axes>"
      ]
     },
     "metadata": {},
     "output_type": "display_data"
    }
   ],
   "source": [
    "sns.set(style=\"whitegrid\")\n",
    "plt.figure(figsize=(10,6))\n",
    "sns.countplot(x='Part of Day Cab Requested', data=df, palette='bright')\n",
    "plt.title('Demand by the Part of Day when Cab is Requested', fontsize= 15)\n",
    "plt.xlabel('Part of Day when Cab is Requested', fontsize= 15)\n",
    "plt.ylabel('No. of Requests', fontsize= 15)\n",
    "plt.show()"
   ]
  },
  {
   "cell_type": "markdown",
   "metadata": {},
   "source": [
    "##### We see for the Demand by the Pickup Point in Different Parts of Day"
   ]
  },
  {
   "cell_type": "markdown",
   "metadata": {},
   "source": [
    "As we have seen earlier that in the morning the request comes for rides from the airport to the city while in the late evening demand comes for rides from airport to city"
   ]
  },
  {
   "cell_type": "code",
   "execution_count": 33,
   "metadata": {},
   "outputs": [
    {
     "data": {
      "image/png": "[encoded data removed]",
      "text/plain": [
       "<Figure size 1008x432 with 1 Axes>"
      ]
     },
     "metadata": {},
     "output_type": "display_data"
    }
   ],
   "source": [
    "sns.set(style=\"whitegrid\")\n",
    "plt.figure(figsize=(14,6))\n",
    "sns.countplot(x='Part of Day Cab Requested', hue=\"Pickup point\",data=df, palette='bright')\n",
    "plt.title('Demand by the Pickup Point in Different Parts of Day', fontsize= 15)\n",
    "plt.xlabel('Part of Day when Cab is Requested', fontsize= 15)\n",
    "plt.ylabel('Frequency', fontsize= 15)\n",
    "plt.show()"
   ]
  },
  {
   "cell_type": "markdown",
   "metadata": {},
   "source": [
    "##### We see for the Status of the Request by the Parts of Day"
   ]
  },
  {
   "cell_type": "markdown",
   "metadata": {},
   "source": [
    "We observe that the main problem of cars being not available is in late evening when demand is high for rides from airport to city and the problem of cancellation is seen in early morning and morning."
   ]
  },
  {
   "cell_type": "code",
   "execution_count": 34,
   "metadata": {},
   "outputs": [
    {
     "data": {
      "image/png": "[encoded data removed]",
      "text/plain": [
       "<Figure size 1008x432 with 1 Axes>"
      ]
     },
     "metadata": {},
     "output_type": "display_data"
    }
   ],
   "source": [
    "sns.set(style=\"whitegrid\")\n",
    "plt.figure(figsize=(14,6))\n",
    "sns.countplot(x='Part of Day Cab Requested', hue=\"Status\",data=df, palette=color)\n",
    "plt.title('Status of the Request by the Parts of Day', fontsize= 15)\n",
    "plt.xlabel('Part of Day when Cab is Requested', fontsize= 15)\n",
    "plt.ylabel('Frequency', fontsize= 15)\n",
    "plt.show()"
   ]
  },
  {
   "cell_type": "markdown",
   "metadata": {},
   "source": [
    "### Now we shift our focus on the demand supply gap."
   ]
  },
  {
   "cell_type": "markdown",
   "metadata": {},
   "source": [
    "##### We see the demand and supply by the different parts of the day."
   ]
  },
  {
   "cell_type": "code",
   "execution_count": 35,
   "metadata": {},
   "outputs": [],
   "source": [
    "### No. of Trips Completed & Trips Not Completed"
   ]
  },
  {
   "cell_type": "code",
   "execution_count": 36,
   "metadata": {},
   "outputs": [
    {
     "data": {
      "text/plain": [
       "Trip Not Completed    3914\n",
       "Trip Completed        2831\n",
       "Name: Demand-Supply Gap, dtype: int64"
      ]
     },
     "execution_count": 36,
     "metadata": {},
     "output_type": "execute_result"
    }
   ],
   "source": [
    "df['Demand-Supply Gap'].value_counts()"
   ]
  },
  {
   "cell_type": "code",
   "execution_count": 37,
   "metadata": {},
   "outputs": [],
   "source": [
    "### No. of trips completed and not completed by the part of the day"
   ]
  },
  {
   "cell_type": "code",
   "execution_count": 38,
   "metadata": {},
   "outputs": [
    {
     "data": {
      "text/html": [
       "<div>\n",
       "<style scoped>\n",
       "    .dataframe tbody tr th:only-of-type {\n",
       "        vertical-align: middle;\n",
       "    }\n",
       "\n",
       "    .dataframe tbody tr th {\n",
       "        vertical-align: top;\n",
       "    }\n",
       "\n",
       "    .dataframe thead th {\n",
       "        text-align: right;\n",
       "    }\n",
       "</style>\n",
       "<table border=\"1\" class=\"dataframe\">\n",
       "  <thead>\n",
       "    <tr style=\"text-align: right;\">\n",
       "      <th>Part of Day Cab Requested</th>\n",
       "      <th>Afternoon</th>\n",
       "      <th>Early Evening</th>\n",
       "      <th>Early Morning</th>\n",
       "      <th>Late Evening</th>\n",
       "      <th>Late Morning</th>\n",
       "      <th>Late Night</th>\n",
       "      <th>Morning</th>\n",
       "      <th>Night</th>\n",
       "    </tr>\n",
       "    <tr>\n",
       "      <th>Demand-Supply Gap</th>\n",
       "      <th></th>\n",
       "      <th></th>\n",
       "      <th></th>\n",
       "      <th></th>\n",
       "      <th></th>\n",
       "      <th></th>\n",
       "      <th></th>\n",
       "      <th></th>\n",
       "    </tr>\n",
       "  </thead>\n",
       "  <tbody>\n",
       "    <tr>\n",
       "      <th>Trip Completed</th>\n",
       "      <td>298</td>\n",
       "      <td>344</td>\n",
       "      <td>430</td>\n",
       "      <td>491</td>\n",
       "      <td>231</td>\n",
       "      <td>136</td>\n",
       "      <td>502</td>\n",
       "      <td>399</td>\n",
       "    </tr>\n",
       "    <tr>\n",
       "      <th>Trip Not Completed</th>\n",
       "      <td>182</td>\n",
       "      <td>404</td>\n",
       "      <td>616</td>\n",
       "      <td>984</td>\n",
       "      <td>183</td>\n",
       "      <td>239</td>\n",
       "      <td>758</td>\n",
       "      <td>548</td>\n",
       "    </tr>\n",
       "  </tbody>\n",
       "</table>\n",
       "</div>"
      ],
      "text/plain": [
       "Part of Day Cab Requested  Afternoon  Early Evening  Early Morning  \\\n",
       "Demand-Supply Gap                                                    \n",
       "Trip Completed                   298            344            430   \n",
       "Trip Not Completed               182            404            616   \n",
       "\n",
       "Part of Day Cab Requested  Late Evening  Late Morning  Late Night  Morning  \\\n",
       "Demand-Supply Gap                                                            \n",
       "Trip Completed                      491           231         136      502   \n",
       "Trip Not Completed                  984           183         239      758   \n",
       "\n",
       "Part of Day Cab Requested  Night  \n",
       "Demand-Supply Gap                 \n",
       "Trip Completed               399  \n",
       "Trip Not Completed           548  "
      ]
     },
     "execution_count": 38,
     "metadata": {},
     "output_type": "execute_result"
    }
   ],
   "source": [
    "twowaytable= pd.crosstab(df['Demand-Supply Gap'],df['Part of Day Cab Requested'])\n",
    "twowaytable"
   ]
  },
  {
   "cell_type": "markdown",
   "metadata": {},
   "source": [
    "We see that the demand-supply gap is maximum in late evening and morning because of non availability of cars and cancellation respectively."
   ]
  },
  {
   "cell_type": "code",
   "execution_count": 39,
   "metadata": {},
   "outputs": [
    {
     "data": {
      "image/png": "[encoded data removed]",
      "text/plain": [
       "<Figure size 1008x432 with 1 Axes>"
      ]
     },
     "metadata": {},
     "output_type": "display_data"
    }
   ],
   "source": [
    "sns.set(style=\"whitegrid\")\n",
    "plt.figure(figsize=(14,6))\n",
    "sns.countplot(x='Part of Day Cab Requested', hue=\"Demand-Supply Gap\",data=df, palette='bright')\n",
    "plt.title('Demand and Supply by the Parts of Day', fontsize= 15)\n",
    "plt.xlabel('Part of Day when Cab is Requested', fontsize= 15)\n",
    "plt.ylabel('Frequency', fontsize= 15)\n",
    "plt.show()"
   ]
  },
  {
   "cell_type": "markdown",
   "metadata": {},
   "source": [
    "##### We see for the demand supply gap for the pickup point"
   ]
  },
  {
   "cell_type": "code",
   "execution_count": 40,
   "metadata": {},
   "outputs": [],
   "source": [
    "#### No. of trips completed and not completed by the Pickup point"
   ]
  },
  {
   "cell_type": "code",
   "execution_count": 41,
   "metadata": {},
   "outputs": [
    {
     "data": {
      "text/html": [
       "<div>\n",
       "<style scoped>\n",
       "    .dataframe tbody tr th:only-of-type {\n",
       "        vertical-align: middle;\n",
       "    }\n",
       "\n",
       "    .dataframe tbody tr th {\n",
       "        vertical-align: top;\n",
       "    }\n",
       "\n",
       "    .dataframe thead th {\n",
       "        text-align: right;\n",
       "    }\n",
       "</style>\n",
       "<table border=\"1\" class=\"dataframe\">\n",
       "  <thead>\n",
       "    <tr style=\"text-align: right;\">\n",
       "      <th>Pickup point</th>\n",
       "      <th>Airport</th>\n",
       "      <th>City</th>\n",
       "    </tr>\n",
       "    <tr>\n",
       "      <th>Demand-Supply Gap</th>\n",
       "      <th></th>\n",
       "      <th></th>\n",
       "    </tr>\n",
       "  </thead>\n",
       "  <tbody>\n",
       "    <tr>\n",
       "      <th>Trip Completed</th>\n",
       "      <td>1327</td>\n",
       "      <td>1504</td>\n",
       "    </tr>\n",
       "    <tr>\n",
       "      <th>Trip Not Completed</th>\n",
       "      <td>1911</td>\n",
       "      <td>2003</td>\n",
       "    </tr>\n",
       "  </tbody>\n",
       "</table>\n",
       "</div>"
      ],
      "text/plain": [
       "Pickup point        Airport  City\n",
       "Demand-Supply Gap                \n",
       "Trip Completed         1327  1504\n",
       "Trip Not Completed     1911  2003"
      ]
     },
     "execution_count": 41,
     "metadata": {},
     "output_type": "execute_result"
    }
   ],
   "source": [
    "twowaytable= pd.crosstab(df['Demand-Supply Gap'],df['Pickup point'])\n",
    "twowaytable"
   ]
  },
  {
   "cell_type": "markdown",
   "metadata": {},
   "source": [
    "We see that the proportion of trip completed to that of trip not completed is low for both the pickup points and uber is losing out on the money."
   ]
  },
  {
   "cell_type": "code",
   "execution_count": 42,
   "metadata": {},
   "outputs": [
    {
     "data": {
      "image/png": "[encoded data removed]",
      "text/plain": [
       "<Figure size 432x432 with 1 Axes>"
      ]
     },
     "metadata": {},
     "output_type": "display_data"
    }
   ],
   "source": [
    "sns.set(style=\"whitegrid\")\n",
    "plt.figure(figsize=(6,6))\n",
    "sns.countplot(x='Pickup point', hue=\"Demand-Supply Gap\",data=df, palette='bright')\n",
    "plt.title('Demand and Supply by Pickup Point', fontsize= 15)\n",
    "plt.xlabel('Pickup Point', fontsize= 15)\n",
    "plt.ylabel('Frequency', fontsize= 15)\n",
    "plt.show()"
   ]
  },
  {
   "cell_type": "markdown",
   "metadata": {},
   "source": [
    "##### We see for the demand supply gap for the pickup point and different times of the day."
   ]
  },
  {
   "cell_type": "code",
   "execution_count": 43,
   "metadata": {},
   "outputs": [],
   "source": [
    "#### No. of trips completed and not completed by the Pickup point and Part of Day."
   ]
  },
  {
   "cell_type": "code",
   "execution_count": 44,
   "metadata": {},
   "outputs": [
    {
     "data": {
      "text/plain": [
       "Part of Day Cab Requested  Pickup point  Demand-Supply Gap \n",
       "Afternoon                  Airport       Trip Completed        135\n",
       "                                         Trip Not Completed     67\n",
       "                           City          Trip Completed        163\n",
       "                                         Trip Not Completed    115\n",
       "Early Evening              Airport       Trip Not Completed    281\n",
       "                                         Trip Completed        164\n",
       "                           City          Trip Completed        180\n",
       "                                         Trip Not Completed    123\n",
       "Early Morning              Airport       Trip Completed        202\n",
       "                                         Trip Not Completed     51\n",
       "                           City          Trip Not Completed    565\n",
       "                                         Trip Completed        228\n",
       "Late Evening               Airport       Trip Not Completed    911\n",
       "                                         Trip Completed        238\n",
       "                           City          Trip Completed        253\n",
       "                                         Trip Not Completed     73\n",
       "Late Morning               Airport       Trip Completed        102\n",
       "                                         Trip Not Completed     37\n",
       "                           City          Trip Not Completed    146\n",
       "                                         Trip Completed        129\n",
       "Late Night                 Airport       Trip Not Completed    114\n",
       "                                         Trip Completed         67\n",
       "                           City          Trip Not Completed    125\n",
       "                                         Trip Completed         69\n",
       "Morning                    Airport       Trip Completed        216\n",
       "                                         Trip Not Completed     29\n",
       "                           City          Trip Not Completed    729\n",
       "                                         Trip Completed        286\n",
       "Night                      Airport       Trip Not Completed    421\n",
       "                                         Trip Completed        203\n",
       "                           City          Trip Completed        196\n",
       "                                         Trip Not Completed    127\n",
       "Name: Demand-Supply Gap, dtype: int64"
      ]
     },
     "execution_count": 44,
     "metadata": {},
     "output_type": "execute_result"
    }
   ],
   "source": [
    "by_time_pickup = df.groupby(['Part of Day Cab Requested', 'Pickup point'])\n",
    "by_time_pickup['Demand-Supply Gap'].value_counts()"
   ]
  },
  {
   "cell_type": "markdown",
   "metadata": {},
   "source": [
    "We see that the main gap between demand and supply exist in Early morning and morning for rides from city to airport and in late evening and night for rides from  airport to city"
   ]
  },
  {
   "cell_type": "markdown",
   "metadata": {},
   "source": [
    "##### To see if the status of the ride varies during different days or it shows a similar pattern every day."
   ]
  },
  {
   "cell_type": "markdown",
   "metadata": {},
   "source": [
    "We see that the status of the rides follow a similar pattern everyday."
   ]
  },
  {
   "cell_type": "code",
   "execution_count": 45,
   "metadata": {},
   "outputs": [
    {
     "data": {
      "image/png": "[encoded data removed]",
      "text/plain": [
       "<Figure size 720x360 with 1 Axes>"
      ]
     },
     "metadata": {},
     "output_type": "display_data"
    }
   ],
   "source": [
    "sns.set(style=\"whitegrid\")\n",
    "plt.figure(figsize=(10,5))\n",
    "sns.countplot(x='Day of Request', hue=\"Status\",data=df, palette=color)\n",
    "plt.title('Supply and Demand by Hours on different days ', fontsize= 15)\n",
    "plt.xlabel('Date', fontsize= 15)\n",
    "plt.ylabel('No. of Requests', fontsize= 15)\n",
    "plt.show()"
   ]
  },
  {
   "cell_type": "markdown",
   "metadata": {},
   "source": [
    "## Hypothesis :"
   ]
  },
  {
   "cell_type": "markdown",
   "metadata": {},
   "source": [
    "### Pickup Point - City :\n",
    "\n",
    "#### As per our analysis, the early morning and morning time is most problematic when the requests for rides are being cancelled. The reason may be the rush during the morning because of the office timings. The distance to the airport is also far so the driver can earn more in short trips. Another possible reason for drivers cancelling the rides is because they dont get customers easily from the airport for a trip in the morning due to the arrival of lesser no. of flights in the morning.\n",
    "\n"
   ]
  },
  {
   "cell_type": "markdown",
   "metadata": {},
   "source": [
    "### Pickup Point - Airport :\n",
    "\n",
    "#### Upon analysis, the late evening and night time slot seems to be most problematic for pickup from airport where the requests are met by non-availability of cars. The reason seems to be that not enough cars are available to serve the requests as cars might not be available at the airport due to the cars serving inside the city. Most of the drivers end their day's work by the night time and very few drivers are willing to do a night shift so the supply of uber cars are less as compared to the morning time."
   ]
  },
  {
   "cell_type": "markdown",
   "metadata": {},
   "source": [
    "### Conclusions :\n",
    "\n",
    "#### Based on our analysis , following recommendation can be used by Uber to bridge the gap between supply and demand: -\n",
    "\n",
    "##### 1. For bridging the demand supply gap from airport to city, making a permanent stand in the airport itself where the cabs will be available at all times and the incomplete requests can come down significantly. \n",
    "\n",
    "##### 2. Uber can provide some incentives likes a greater share of the total bill amount to the driver who complete the trip from city to airport in the morning. This might result in the driver not canceling the request for trips from city to airport.\n",
    "\n",
    "##### 3. Uber can provide incentives to those driver who are willing to serve at night, particularly those serving in and around the airport area.\n",
    "\n",
    "##### 4. The sure solution to bring down the gap is to increase the numbers of cabs used by uber."
   ]
  }
 ],
 "metadata": {
  "kernelspec": {
   "display_name": "Python 3",
   "language": "python",
   "name": "python3"
  },
  "language_info": {
   "codemirror_mode": {
    "name": "ipython",
    "version": 3
   },
   "file_extension": ".py",
   "mimetype": "text/x-python",
   "name": "python",
   "nbconvert_exporter": "python",
   "pygments_lexer": "ipython3",
   "version": "3.7.1"
  }
 },
 "nbformat": 4,
 "nbformat_minor": 2
}
